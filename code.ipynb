{
 "cells": [
  {
   "cell_type": "code",
   "execution_count": 1,
   "id": "df66736f",
   "metadata": {},
   "outputs": [],
   "source": [
    "from questiongenerator import QuestionGenerator, QAEvaluator\n",
    "from questiongenerator import print_qa\n",
    "import random\n",
    "import numpy as np\n",
    "import re\n",
    "import math\n",
    "import re\n",
    "from collections import Counter"
   ]
  },
  {
   "cell_type": "code",
   "execution_count": 2,
   "id": "d7aa0199",
   "metadata": {},
   "outputs": [
    {
     "name": "stdout",
     "output_type": "stream",
     "text": [
      "Generating questions...\n",
      "\n"
     ]
    },
    {
     "name": "stderr",
     "output_type": "stream",
     "text": [
      "C:\\ProgramData\\Anaconda3\\envs\\saad\\lib\\site-packages\\spacy\\language.py:1899: UserWarning: [W123] Argument disable with value [] is used instead of ['senter'] as specified in the config. Be aware that this might affect other components in your pipeline.\n",
      "  config_value=config[\"nlp\"][key],\n"
     ]
    },
    {
     "name": "stdout",
     "output_type": "stream",
     "text": [
      "Evaluating QA pairs...\n",
      "\n"
     ]
    }
   ],
   "source": [
    "with open(\"./text.txt\", 'r') as file:\n",
    "        text_file = file.read()\n",
    "qg = QuestionGenerator()\n",
    "qa_pairs=qg.generate(text_file, num_questions=5,answer_style='multiple_choice')"
   ]
  },
  {
   "cell_type": "code",
   "execution_count": null,
   "id": "319bc7b6",
   "metadata": {},
   "outputs": [],
   "source": [
    "# print_qa(qa_pairs)\n",
    "print(qa_pairs)"
   ]
  },
  {
   "cell_type": "code",
   "execution_count": null,
   "id": "dd939347",
   "metadata": {},
   "outputs": [],
   "source": [
    "qa=QAEvaluator()"
   ]
  },
  {
   "cell_type": "code",
   "execution_count": 3,
   "id": "98988262",
   "metadata": {},
   "outputs": [],
   "source": [
    "questions,answers=[],[]"
   ]
  },
  {
   "cell_type": "code",
   "execution_count": 4,
   "id": "806d301e",
   "metadata": {},
   "outputs": [],
   "source": [
    "questions=[x[\"question\"] for x in qa_pairs]\n",
    "answers=[a[\"answer\"] for x in qa_pairs for a in x[\"answer\"] if a[\"correct\"]==True]"
   ]
  },
  {
   "cell_type": "code",
   "execution_count": 148,
   "id": "90233b37",
   "metadata": {},
   "outputs": [],
   "source": [
    "class ChatBot:\n",
    "    def __init__(self,questions=[],answers=[]):\n",
    "        self.questions=questions\n",
    "        self.answers=answers\n",
    "        self.look_up=dict()\n",
    "        self.count=0\n",
    "        self.look_up[\"score\"]=int()\n",
    "        self.look_up[\"question\"],self.look_up[\"correct_answer\"]=[],[]\n",
    "        self.look_up[\"guess_answer\"]=[]\n",
    "        self.score=[]\n",
    "        self.total_score=[]\n",
    "    def question_generate(self):\n",
    "        index=np.random.choice(len(self.questions))\n",
    "        question=self.questions[index]\n",
    "        answer=self.answers[index]\n",
    "        self.look_up[\"question\"]+=[question]\n",
    "        self.look_up[\"correct_answer\"]+=[answer]\n",
    "        return question,index\n",
    "    def cosine(self,text1,text2):\n",
    "        def get_cosine(vec1, vec2):\n",
    "            intersection = set(vec1.keys()) & set(vec2.keys())\n",
    "            numerator = sum([vec1[x] * vec2[x] for x in intersection])\n",
    "            sum1 = sum([vec1[x] ** 2 for x in list(vec1.keys())])\n",
    "            sum2 = sum([vec2[x] ** 2 for x in list(vec2.keys())])\n",
    "            denominator = math.sqrt(sum1) * math.sqrt(sum2)\n",
    "            if not denominator:\n",
    "                return 0.0\n",
    "            else:\n",
    "                return float(numerator) / denominator    \n",
    "        def text_to_vector(text):\n",
    "            WORD = re.compile(r\"\\w+\")\n",
    "            words = WORD.findall(text)\n",
    "            return Counter(words)\n",
    "        text1 = text1\n",
    "        text2 = text2\n",
    "        vector1 = text_to_vector(text1)\n",
    "        vector2 = text_to_vector(text2)\n",
    "        cosine = get_cosine(vector1, vector2)\n",
    "        return cosine\n",
    "    def answer(self):\n",
    "        return {\n",
    "            \"question\":self.look_up[\"question\"][:-1],\n",
    "            \"correct_answer\":self.look_up[\"correct_answer\"][:-1],\n",
    "            \"user_answer\":self.look_up['guess_answer'],\n",
    "            \"score\":self.look_up[\"score\"]\n",
    "        }\n",
    "    def ask_question(self,answer):\n",
    "        index=int()\n",
    "        if answer==\"\" or answer==-1: \n",
    "            if len(self.total_score) < 0:\n",
    "                return 0\n",
    "            else:\n",
    "                return self.look_up['score']\n",
    "        else:\n",
    "            if answer==\"start\" and len(answer)==len(\"start\"):\n",
    "                question,index=self.question_generate()\n",
    "                self.count+=1\n",
    "                return question\n",
    "            else:\n",
    "                correct_answer=self.look_up[\"correct_answer\"][index]\n",
    "                self.look_up[\"guess_answer\"]+=[answer]\n",
    "                cosine=self.cosine(correct_answer,answer)\n",
    "                self.score+=[cosine]\n",
    "                self.total_score+=[sum(self.score)/self.count]\n",
    "                self.look_up[\"score\"]=int(self.total_score[0]*100)\n",
    "                question,index=self.question_generate()\n",
    "                self.count+=1\n",
    "                return question"
   ]
  },
  {
   "cell_type": "code",
   "execution_count": 152,
   "id": "0dd85d2a",
   "metadata": {},
   "outputs": [
    {
     "name": "stdout",
     "output_type": "stream",
     "text": [
      "type start to start or 'q, exit, quit'to stop\n",
      "Type:start\n",
      "how many km area of pakistan?\n",
      "Type:dfjsjflsd\n",
      "what is peshawar?\n",
      "Type:city\n",
      "how long does it take to drive from afghanistan to peshawar?\n",
      "Type:2 hours\n",
      "where is it from?\n",
      "Type:kil\n",
      "how many km area of pakistan?\n",
      "Type:q\n",
      "you didn't play\n"
     ]
    }
   ],
   "source": [
    "flag=True\n",
    "chatbot=ChatBot(questions=questions,answers=answers)\n",
    "while True:\n",
    "    if flag:\n",
    "        print(\"type start to start or 'q, exit, quit'to stop\")\n",
    "    ask=input(\"Type:\")\n",
    "    if ask.lower() in [\"q\",\"quit\",\"eixt\"]:\n",
    "        answer=chatbot.ask_question(-1)\n",
    "        print(\"you score\",answer) if answer else print(\"you didn't play\")\n",
    "        break\n",
    "    else:\n",
    "        question=chatbot.ask_question(ask)\n",
    "        print(question)\n",
    "        flag=False"
   ]
  },
  {
   "cell_type": "code",
   "execution_count": 153,
   "id": "036b206f",
   "metadata": {},
   "outputs": [
    {
     "data": {
      "text/plain": [
       "{'question': ['how many km area of pakistan?',\n",
       "  'what is peshawar?',\n",
       "  'how long does it take to drive from afghanistan to peshawar?',\n",
       "  'where is it from?'],\n",
       " 'correct_answer': ['about 20000 km', 'pakistan', '2 hours', 'Afghansitan'],\n",
       " 'user_answer': ['dfjsjflsd', 'city', '2 hours', 'kil'],\n",
       " 'score': 0}"
      ]
     },
     "execution_count": 153,
     "metadata": {},
     "output_type": "execute_result"
    }
   ],
   "source": [
    "chatbot.answer()"
   ]
  },
  {
   "cell_type": "code",
   "execution_count": null,
   "id": "a7a8fd64",
   "metadata": {
    "scrolled": true
   },
   "outputs": [],
   "source": []
  },
  {
   "cell_type": "code",
   "execution_count": 29,
   "id": "c3c62786",
   "metadata": {
    "scrolled": true
   },
   "outputs": [
    {
     "data": {
      "text/plain": [
       "['2 hours', 'about 20000 km', 'Afghansitan', 'pakistan', 'pakistan']"
      ]
     },
     "execution_count": 29,
     "metadata": {},
     "output_type": "execute_result"
    }
   ],
   "source": [
    "answers"
   ]
  },
  {
   "cell_type": "code",
   "execution_count": 31,
   "id": "1a3d9c9f",
   "metadata": {},
   "outputs": [
    {
     "data": {
      "text/plain": [
       "['how long does it take to drive from afghanistan to peshawar?',\n",
       " 'how many km area of pakistan?',\n",
       " 'where is it from?',\n",
       " 'what is peshawar?',\n",
       " 'what is pakistan?']"
      ]
     },
     "execution_count": 31,
     "metadata": {},
     "output_type": "execute_result"
    }
   ],
   "source": [
    "questions"
   ]
  },
  {
   "cell_type": "code",
   "execution_count": null,
   "id": "8a484759",
   "metadata": {},
   "outputs": [],
   "source": []
  },
  {
   "cell_type": "code",
   "execution_count": null,
   "id": "ad02d789",
   "metadata": {},
   "outputs": [],
   "source": []
  },
  {
   "cell_type": "code",
   "execution_count": null,
   "id": "c1c267d4",
   "metadata": {},
   "outputs": [],
   "source": []
  },
  {
   "cell_type": "code",
   "execution_count": null,
   "id": "4a7c3d6e",
   "metadata": {},
   "outputs": [],
   "source": []
  },
  {
   "cell_type": "code",
   "execution_count": null,
   "id": "2f71d6ea",
   "metadata": {},
   "outputs": [],
   "source": [
    "WORD = re.compile(r\"\\w+\")\n",
    "def get_cosine(vec1, vec2):\n",
    "    intersection = set(vec1.keys()) & set(vec2.keys())\n",
    "    numerator = sum([vec1[x] * vec2[x] for x in intersection])\n",
    "    sum1 = sum([vec1[x] ** 2 for x in list(vec1.keys())])\n",
    "    sum2 = sum([vec2[x] ** 2 for x in list(vec2.keys())])\n",
    "    denominator = math.sqrt(sum1) * math.sqrt(sum2)\n",
    "    if not denominator:\n",
    "        return 0.0\n",
    "    else:\n",
    "        return float(numerator) / denominator\n",
    "\n",
    "def text_to_vector(text):\n",
    "    words = WORD.findall(text)\n",
    "    return Counter(words)\n",
    "text1 = \"This is a foo bar sentence 2.\"\n",
    "text2 = \"This sentence is similar to a foo bar sentence .\"\n",
    "# vector1 = text_to_vector(text1)\n",
    "# vector2 = text_to_vector(text2)\n",
    "# cosine = get_cosine(vector1, vector2)\n",
    "# print(\"Cosine:\", cosine)"
   ]
  },
  {
   "cell_type": "code",
   "execution_count": null,
   "id": "b771d4db",
   "metadata": {},
   "outputs": [],
   "source": [
    "a=[]\n",
    "a+=[cosine]"
   ]
  },
  {
   "cell_type": "code",
   "execution_count": null,
   "id": "92541e7f",
   "metadata": {},
   "outputs": [],
   "source": [
    "a+=[cosine]"
   ]
  },
  {
   "cell_type": "code",
   "execution_count": null,
   "id": "4c9145dd",
   "metadata": {},
   "outputs": [],
   "source": [
    "sum(a)/5"
   ]
  },
  {
   "cell_type": "code",
   "execution_count": null,
   "id": "aa96a500",
   "metadata": {},
   "outputs": [],
   "source": [
    "else:\n",
    "                correct_answer=self.look_up[\"correct_answer\"][index]\n",
    "                cosine=get_cosine(correct_answer,answer)\n",
    "                score=[]\n",
    "                score+=[cosine]\n",
    "                self.look_up[\"score\"]=sum(score)/count\n",
    "                question,index=self.question_generate()\n",
    "                count+=1\n",
    "                return question\n"
   ]
  },
  {
   "cell_type": "code",
   "execution_count": null,
   "id": "5efee646",
   "metadata": {},
   "outputs": [],
   "source": [
    "or not re.match(\"^[a-zA-Z,0-9]+$\", answer)"
   ]
  },
  {
   "cell_type": "code",
   "execution_count": null,
   "id": "24e3198a",
   "metadata": {},
   "outputs": [],
   "source": []
  },
  {
   "cell_type": "code",
   "execution_count": null,
   "id": "ed3cb772",
   "metadata": {},
   "outputs": [],
   "source": []
  },
  {
   "cell_type": "code",
   "execution_count": null,
   "id": "12df4834",
   "metadata": {},
   "outputs": [],
   "source": []
  }
 ],
 "metadata": {
  "kernelspec": {
   "display_name": "Python 3 (ipykernel)",
   "language": "python",
   "name": "python3"
  },
  "language_info": {
   "codemirror_mode": {
    "name": "ipython",
    "version": 3
   },
   "file_extension": ".py",
   "mimetype": "text/x-python",
   "name": "python",
   "nbconvert_exporter": "python",
   "pygments_lexer": "ipython3",
   "version": "3.7.13"
  }
 },
 "nbformat": 4,
 "nbformat_minor": 5
}
